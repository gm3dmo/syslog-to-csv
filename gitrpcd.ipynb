{
 "cells": [
  {
   "cell_type": "markdown",
   "id": "a1ef743a",
   "metadata": {
    "tags": []
   },
   "source": [
    "# `gitrpcd` Breakdown\n",
    "\n",
    "This script uses pandas to generate:\n",
    "\n",
    "- Simple plot of of a `gitrpcd.csv` file. It is assumed that the csv file has been previously created by [kv-to-csv.py](https://github.com/gm3dmo/syslog-to-csv/blob/main/kv-to-csv.py)\n",
    "\n",
    "You will need to `conda install bokeh` or `pip install bokeh`"
   ]
  },
  {
   "cell_type": "code",
   "execution_count": null,
   "id": "28195f98",
   "metadata": {
    "tags": []
   },
   "outputs": [],
   "source": [
    "import pandas as pd\n",
    "import numpy as np\n",
    "import panel as pn\n",
    "pn.extension('tabulator')\n",
    "import hvplot.pandas\n",
    "import pathlib\n",
    "\n",
    "from bokeh.plotting import figure, output_file, show\n",
    "from bokeh.models import ColumnDataSource\n",
    "from bokeh.models.tools import HoverTool"
   ]
  },
  {
   "cell_type": "code",
   "execution_count": null,
   "id": "30a0c759",
   "metadata": {},
   "outputs": [],
   "source": [
    "pd.set_option('display.max_rows', 1000)\n",
    "\n",
    "cwd = pathlib.Path.cwd()\n",
    "csv_file = cwd / 'gitrpcd.log.csv'\n",
    "df = pd.read_csv(csv_file,  dtype={\"line_number\": int, \"line_length\": int,  \"hostname\": \"string\", \"wiped_line\": \"string\" , \"daemon\": \"string\", \"health\": \"string\", \"msg\": \"string\", \"repository_id\": \"string\", \"twirp_error\": \"string\",  \"path\": \"string\"})"
   ]
  },
  {
   "cell_type": "code",
   "execution_count": null,
   "id": "59b92095",
   "metadata": {},
   "outputs": [],
   "source": [
    "df.info()"
   ]
  },
  {
   "cell_type": "markdown",
   "id": "29d65685",
   "metadata": {},
   "source": [
    "Create a pandas datetime column called `real_date` using the `unix_timestamp` column as a source:"
   ]
  },
  {
   "cell_type": "code",
   "execution_count": null,
   "id": "99ec858f",
   "metadata": {},
   "outputs": [],
   "source": [
    "df['time'] = pd.to_datetime(df['time'])\n",
    "df.info()\n",
    "df.head()"
   ]
  },
  {
   "cell_type": "code",
   "execution_count": null,
   "id": "17c9d69c-8dcb-4605-b853-31a7d8e849fc",
   "metadata": {},
   "outputs": [],
   "source": [
    "df[\"repository_id\"].value_counts(normalize=True)"
   ]
  },
  {
   "cell_type": "code",
   "execution_count": null,
   "id": "1dbaf871-00ed-46db-86b3-60a9a9cd4159",
   "metadata": {},
   "outputs": [],
   "source": [
    "df[\"user_agent\"].value_counts(normalize=True)"
   ]
  },
  {
   "cell_type": "code",
   "execution_count": null,
   "id": "024ba5f6-0b2e-4117-8ea2-d58fc4c6bc8f",
   "metadata": {},
   "outputs": [],
   "source": [
    "df[\"path\"].value_counts(normalize=True)"
   ]
  },
  {
   "cell_type": "code",
   "execution_count": null,
   "id": "482b2cb7-a888-428c-bfc2-bfd9f38c2d8a",
   "metadata": {},
   "outputs": [],
   "source": [
    "df[\"twirp_error\"].value_counts(normalize=True)"
   ]
  },
  {
   "cell_type": "markdown",
   "id": "e071e3f7",
   "metadata": {},
   "source": [
    "Create the time period *buckets* in which to group the data. In this script We've chosen `600S` (10 minutes) for the granularity of the bucket. Other frequencies can be chosen and are documented in the [offset-aliases](https://pandas.pydata.org/pandas-docs/stable/user_guide/timeseries.html#offset-aliases). To choose a different *bucket size*, simply replace the `600S` with a new value where you see `freq='600S'`"
   ]
  },
  {
   "cell_type": "code",
   "execution_count": null,
   "id": "f8f194b4",
   "metadata": {},
   "outputs": [],
   "source": [
    "# Set the sample frequency 10 minutes = 600 seconds\n",
    "sample_frequency = '600S'\n",
    "buckets = df.groupby([pd.Grouper(key='time', axis=0, freq=sample_frequency),'service']).count()\n",
    "buckets.head()"
   ]
  },
  {
   "cell_type": "markdown",
   "id": "993c5ea3",
   "metadata": {},
   "source": [
    "#### Which daemons are producing the most messages per 10 minutes?"
   ]
  },
  {
   "cell_type": "code",
   "execution_count": null,
   "id": "ece2f851",
   "metadata": {},
   "outputs": [],
   "source": [
    "buckets_of_service = df.groupby([pd.Grouper(key='time', axis=0, freq=sample_frequency),'service'])['service'].count().unstack()"
   ]
  },
  {
   "cell_type": "markdown",
   "id": "26a0a0f5",
   "metadata": {},
   "source": [
    "### Generate summaries of the bucket data"
   ]
  },
  {
   "cell_type": "code",
   "execution_count": null,
   "id": "05e875ae-9f75-4729-b6bb-a67301c1951b",
   "metadata": {},
   "outputs": [],
   "source": [
    "daemon_plot = buckets_of_service.hvplot.scatter(x = 'time', by='service', line_width=2, title=\"service lines in gitrpcd.log\", width=1600, height=1200)\n",
    "daemon_plot"
   ]
  },
  {
   "cell_type": "code",
   "execution_count": null,
   "id": "72144ece-d782-4be7-8ef3-0463dbea5c60",
   "metadata": {},
   "outputs": [],
   "source": [
    "buckets_of_agent = df.groupby([pd.Grouper(key='time', axis=0, freq=sample_frequency),'user_agent'])['user_agent'].count().unstack()\n",
    "plot_agent = buckets_of_agent.hvplot.scatter(x = 'time', by='user_agent', line_width=2, title=\"user_agent lines in gitrpcd.log\", width=1600, height=1200)\n",
    "plot_agent"
   ]
  },
  {
   "cell_type": "code",
   "execution_count": null,
   "id": "92e95a8a-e468-438a-9b8e-8ee83d45011a",
   "metadata": {},
   "outputs": [],
   "source": [
    "buckets_of_twirp_method = df.groupby([pd.Grouper(key='time', axis=0, freq=sample_frequency),'twirp_method'])['twirp_method'].count().unstack()\n",
    "plot_twirp_method = buckets_of_twirp_method.hvplot.scatter(x = 'time', by='twirp_method', line_width=2, title=\"twirp_method lines in gitrpcd.log\", width=1600, height=1200)\n",
    "plot_twirp_method"
   ]
  },
  {
   "cell_type": "code",
   "execution_count": null,
   "id": "89884b08-4617-4060-b6aa-b34150df212a",
   "metadata": {},
   "outputs": [],
   "source": [
    "buckets_of_twirp_error = df.groupby([pd.Grouper(key='time', axis=0, freq=sample_frequency),'twirp_error'])['twirp_error'].count().unstack()\n",
    "plot_twirp_error = buckets_of_twirp_error.hvplot.scatter(x = 'time', by='twirp_error', line_width=2, title=\"twirp_error lines in gitrpcd.log\", width=1600, height=1200)\n",
    "plot_twirp_error"
   ]
  },
  {
   "cell_type": "code",
   "execution_count": null,
   "id": "15ac6d41-03b4-413e-9954-d817323aadb1",
   "metadata": {},
   "outputs": [],
   "source": [
    "buckets_of_repository_id = df.groupby([pd.Grouper(key='time', axis=0, freq=sample_frequency),'repository_id'])['repository_id'].count().unstack()\n",
    "plot_repository_id = buckets_of_repository_id.hvplot.scatter(x = 'time', by='repository_id', line_width=2, title=\"repository_id lines in gitrpcd.log\", width=1600, height=1200)\n",
    "plot_repository_id"
   ]
  },
  {
   "cell_type": "code",
   "execution_count": null,
   "id": "83da7ec2-f7da-4683-a31e-ba4ecac5405f",
   "metadata": {},
   "outputs": [],
   "source": [
    "buckets_of_level = df.groupby([pd.Grouper(key='time', axis=0, freq=sample_frequency),'level'])['level'].count().unstack()\n",
    "plot_level = buckets_of_level.hvplot.scatter(x = 'time', by='level', line_width=2, title=\"level lines in gitrpcd.log\", width=1600, height=1200)\n",
    "plot_level"
   ]
  },
  {
   "cell_type": "code",
   "execution_count": null,
   "id": "95b27f37-022a-4270-a1db-b9a976c38a29",
   "metadata": {},
   "outputs": [],
   "source": []
  },
  {
   "cell_type": "code",
   "execution_count": null,
   "id": "2a888fc6-c121-4502-9332-26481746c572",
   "metadata": {},
   "outputs": [],
   "source": []
  }
 ],
 "metadata": {
  "kernelspec": {
   "display_name": "Python 3 (ipykernel)",
   "language": "python",
   "name": "python3"
  },
  "language_info": {
   "codemirror_mode": {
    "name": "ipython",
    "version": 3
   },
   "file_extension": ".py",
   "mimetype": "text/x-python",
   "name": "python",
   "nbconvert_exporter": "python",
   "pygments_lexer": "ipython3",
   "version": "3.9.7"
  }
 },
 "nbformat": 4,
 "nbformat_minor": 5
}
